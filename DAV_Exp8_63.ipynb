{
  "nbformat": 4,
  "nbformat_minor": 0,
  "metadata": {
    "colab": {
      "provenance": [],
      "authorship_tag": "ABX9TyPMcmwwaTxZxHOCPzVfb7TL",
      "include_colab_link": true
    },
    "kernelspec": {
      "name": "python3",
      "display_name": "Python 3"
    },
    "language_info": {
      "name": "python"
    }
  },
  "cells": [
    {
      "cell_type": "markdown",
      "metadata": {
        "id": "view-in-github",
        "colab_type": "text"
      },
      "source": [
        "<a href=\"https://colab.research.google.com/github/RashmitVartak/DAV/blob/main/DAV_Exp8_63.ipynb\" target=\"_parent\"><img src=\"https://colab.research.google.com/assets/colab-badge.svg\" alt=\"Open In Colab\"/></a>"
      ]
    },
    {
      "cell_type": "markdown",
      "source": [
        "# **Experiment - 11: Set Up a D3.js Environment, Select Elements in D3, Modify Elements in D3,Data Loading in D3**"
      ],
      "metadata": {
        "id": "stFsRq6oW7JC"
      }
    },
    {
      "cell_type": "markdown",
      "source": [
        "Name:Rashmit Vartak\n",
        "\n",
        "Div: D11AD\n",
        "\n",
        "Rollno:63\n"
      ],
      "metadata": {
        "id": "US83GPOwXGDx"
      }
    },
    {
      "cell_type": "markdown",
      "source": [
        "\n",
        "**Title of Experiment**: Set Up a D3.js Environment, Select Elements in D3, Modify Elements in D3,Data Loading in D3\n",
        "\n",
        "\n",
        "**Outcome of Experiment :**\n",
        "\n",
        "Implement visualization techniques to given data sets using R (LO5)\n",
        "Implement visualization techniques to given data sets using Python. (LO6)\n",
        "\n",
        "**Tasks to be performed :**\n",
        "\n",
        "\n",
        "\n",
        "\n",
        "\n",
        "**Theory :**\n",
        "\n",
        "D3 stands for Data-Driven Documents. D3.js is a JavaScript library for manipulating documents based on data. D3.js is a dynamic, interactive, online data visualizations framework used in a large number of websites. D3.js is written by Mike Bostock, created as a successor to an earlier visualization toolkit called Protovis."
      ],
      "metadata": {
        "id": "KaV56s6wXG9I"
      }
    },
    {
      "cell_type": "markdown",
      "source": [
        "Selections is one of the core concepts in D3.js. It is based on CSS selectors. It allows us to select one or more elements in a webpage. In addition, it allows us to modify, append, or remove elements in a relation to the pre-defined dataset. In this chapter, we will see how to use selections to create data visualizations.\n",
        "\n",
        "D3.js helps to select elements from the HTML page using the following two methods −\n",
        "\n",
        "1)select() − Selects only one DOM element by matching the given CSS selector. If there are more than one elements for the given CSS selector, it selects the first one only.\n",
        "\n",
        "2)selectAll() − Selects all DOM elements by matching the given CSS selector. If you are familiar with selecting elements with jQuery, D3.js selectors are almost the same."
      ],
      "metadata": {
        "id": "UXVzIkYUaN6C"
      }
    },
    {
      "cell_type": "markdown",
      "source": [
        "#select():"
      ],
      "metadata": {
        "id": "fVtWtJS1-oZD"
      }
    },
    {
      "cell_type": "markdown",
      "source": [
        "The select() method:\n",
        "\n",
        "It selects the HTML element based on CSS Selectors. In CSS Selectors, you can define and access HTML-elements in the following three ways −\n",
        "\n",
        "    1)Tag of a HTML element (e.g. div, h1, p, span, etc.,)\n",
        "\n",
        "    2)Class name of a HTML element\n",
        "\n",
        "    3)ID of a HTML element\n",
        "\n",
        "\n",
        "a)Selection by Tag:\n",
        "\n",
        "You can select HTML elements using its TAG. The following syntax is used to select the “div” tag elements:- \"d3.select(“div”)\""
      ],
      "metadata": {
        "id": "sqo6PDLcajep"
      }
    },
    {
      "cell_type": "code",
      "source": [
        "%%html\n",
        "<!DOCTYPE html>\n",
        "<html>\n",
        "   <head>\n",
        "      <script type = \"text/javascript\" src = \"https://d3js.org/d3.v4.min.js\"></script>\n",
        "   </head>\n",
        "\n",
        "   <body>\n",
        "      <div>\n",
        "        Trying and exploring D3 from tutorials point UwU\n",
        "      </div>\n",
        "\n",
        "      <script>\n",
        "         d3.select(\"div\").text();\n",
        "      </script>\n",
        "   </body>\n",
        "</html>"
      ],
      "metadata": {
        "colab": {
          "base_uri": "https://localhost:8080/",
          "height": 34
        },
        "id": "r6MOwgxjXFmI",
        "outputId": "f6b509fe-a29a-4ddb-e798-455fb92907ab"
      },
      "execution_count": null,
      "outputs": [
        {
          "output_type": "display_data",
          "data": {
            "text/plain": [
              "<IPython.core.display.HTML object>"
            ],
            "text/html": [
              "<!DOCTYPE html>\n",
              "<html>\n",
              "   <head>\n",
              "      <script type = \"text/javascript\" src = \"https://d3js.org/d3.v4.min.js\"></script>\n",
              "   </head>\n",
              "\n",
              "   <body>\n",
              "      <div>\n",
              "         Hello World!    \n",
              "      </div>\n",
              "      \n",
              "      <script>\n",
              "         d3.select(\"div\").text();\n",
              "      </script>\n",
              "   </body>\n",
              "</html>\n"
            ]
          },
          "metadata": {}
        }
      ]
    },
    {
      "cell_type": "markdown",
      "source": [
        "b)Selection by Class name:\n",
        "\n",
        "HTML elements styled using CSS classes can be selected by using the following syntax :- d3.select(“.<class name>”)"
      ],
      "metadata": {
        "id": "xeo9xZXGaPPJ"
      }
    },
    {
      "cell_type": "code",
      "execution_count": null,
      "metadata": {
        "colab": {
          "base_uri": "https://localhost:8080/",
          "height": 34
        },
        "id": "Y9iT7WV8V5U9",
        "outputId": "5c6d09bd-0fd4-4bd1-95cd-b9f2adc7e821"
      },
      "outputs": [
        {
          "output_type": "display_data",
          "data": {
            "text/plain": [
              "<IPython.core.display.HTML object>"
            ],
            "text/html": [
              "<!DOCTYPE html>\n",
              "<html>\n",
              "   <head>\n",
              "      <script type = \"text/javascript\" src = \"https://d3js.org/d3.v4.min.js\"></script>\n",
              "   </head>\n",
              "\n",
              "   <body>\n",
              "      <div class = \"myclass\">\n",
              "         Hello World!\n",
              "      </div>\n",
              "      \n",
              "      <script>\n",
              "         ad3.select(\".myclass\").text();\n",
              "      </script>\n",
              "   </body>\n",
              "</html>\n"
            ]
          },
          "metadata": {}
        }
      ],
      "source": [
        "%%html\n",
        "<!DOCTYPE html>\n",
        "<html>\n",
        "   <head>\n",
        "      <script type = \"text/javascript\" src = \"https://d3js.org/d3.v4.min.js\"></script>\n",
        "   </head>\n",
        "\n",
        "   <body>\n",
        "      <div class = \"myclass\">\n",
        "         Hello World!\n",
        "      </div>\n",
        "\n",
        "      <script>\n",
        "         ad3.select(\".myclass\").text();\n",
        "      </script>\n",
        "   </body>\n",
        "</html>"
      ]
    },
    {
      "cell_type": "markdown",
      "source": [
        "c)Selection by ID:\n",
        "\n",
        "Every element in a HTML page should have a unique ID. We can use this unique ID of an element to access it using the select() method as specified below:-\n",
        "\n",
        "d3.select(“# (id of an element)”)"
      ],
      "metadata": {
        "id": "-KSIJVQgbSRy"
      }
    },
    {
      "cell_type": "code",
      "source": [
        "%%html\n",
        "<!DOCTYPE html>\n",
        "<html>\n",
        "   <head>\n",
        "      <script type = \"text/javascript\" src = \"https://d3js.org/d3.v4.min.js\"></script>\n",
        "   </head>\n",
        "\n",
        "   <body>\n",
        "      <div id = \"hello\">\n",
        "         Hello World!\n",
        "      </div>\n",
        "\n",
        "      <script>\n",
        "         d3.select(\"#hello\").text();\n",
        "      </script>\n",
        "   </body>\n",
        "</html>"
      ],
      "metadata": {
        "colab": {
          "base_uri": "https://localhost:8080/",
          "height": 34
        },
        "id": "EFuM5UR-ZfEJ",
        "outputId": "4981d02a-038b-4673-c65c-8017f510553c"
      },
      "execution_count": null,
      "outputs": [
        {
          "output_type": "display_data",
          "data": {
            "text/plain": [
              "<IPython.core.display.HTML object>"
            ],
            "text/html": [
              "<!DOCTYPE html>\n",
              "<html>\n",
              "   <head>\n",
              "      <script type = \"text/javascript\" src = \"https://d3js.org/d3.v4.min.js\"></script>\n",
              "   </head>\n",
              "\n",
              "   <body>\n",
              "      <div id = \"hello\">\n",
              "         Hello World!\n",
              "      </div>\n",
              "      \n",
              "      <script>\n",
              "         d3.select(\"#hello\").text();\n",
              "      </script>\n",
              "   </body>\n",
              "</html>\n"
            ]
          },
          "metadata": {}
        }
      ]
    },
    {
      "cell_type": "markdown",
      "source": [
        "#DOM Elements"
      ],
      "metadata": {
        "id": "OTjASFo7-uAR"
      }
    },
    {
      "cell_type": "markdown",
      "source": [
        "**Adding DOM Elements**\n",
        "\n",
        "The D3.js selection provides the append() and the text() methods to append new elements into the existing HTML documents. This section explains about adding DOM elements in detail.\n",
        "\n",
        "*1]append() Method*\n",
        "\n",
        "It appends a new element as the last child of the element in the current selection. This method can also modify the style of the elements, their attributes, properties, HTML and text content."
      ],
      "metadata": {
        "id": "68FJmrsQbkfZ"
      }
    },
    {
      "cell_type": "code",
      "source": [
        "%%html\n",
        "<!DOCTYPE html>\n",
        "<html>\n",
        "   <head>\n",
        "      <script type = \"text/javascript\" src = \"https://d3js.org/d3.v4.min.js\"></script>\n",
        "   </head>\n",
        "\n",
        "   <body>\n",
        "      <div class = \"myclass\">\n",
        "         Hello World!\n",
        "      </div>\n",
        "\n",
        "      <script>\n",
        "         d3.select(\"div.myclass\").append(\"span\");\n",
        "      </script>\n",
        "   </body>\n",
        "</html>"
      ],
      "metadata": {
        "colab": {
          "base_uri": "https://localhost:8080/",
          "height": 34
        },
        "id": "QRplwYa0b_7C",
        "outputId": "a33f29da-ebac-4b8e-a1df-62e80a747744"
      },
      "execution_count": null,
      "outputs": [
        {
          "output_type": "display_data",
          "data": {
            "text/plain": [
              "<IPython.core.display.HTML object>"
            ],
            "text/html": [
              "<!DOCTYPE html>\n",
              "<html>\n",
              "   <head>\n",
              "      <script type = \"text/javascript\" src = \"https://d3js.org/d3.v4.min.js\"></script>\n",
              "   </head>\n",
              "\n",
              "   <body>\n",
              "      <div class = \"myclass\">\n",
              "         Hello World!\n",
              "      </div>\n",
              "      \n",
              "      <script>\n",
              "         d3.select(\"div.myclass\").append(\"span\");\n",
              "      </script>\n",
              "   </body>\n",
              "</html>\n"
            ]
          },
          "metadata": {}
        }
      ]
    },
    {
      "cell_type": "markdown",
      "source": [
        "*2]text() Method*\n",
        "\n",
        "It is used to set the content of the selected / appended elements. Let us change the above example and add the text() method as shown below"
      ],
      "metadata": {
        "id": "5oTNOcWmcPUL"
      }
    },
    {
      "cell_type": "code",
      "source": [
        "%%html\n",
        "<!DOCTYPE html>\n",
        "<html>\n",
        "   <head>\n",
        "      <script type = \"text/javascript\" src = \"https://d3js.org/d3.v4.min.js\"></script>\n",
        "   </head>\n",
        "\n",
        "   <body>\n",
        "      <div class = \"myclass\">\n",
        "         Hello World!\n",
        "      </div>\n",
        "\n",
        "      <script>\n",
        "         d3.select(\"div.myclass\").append(\"span\").text(\"from D3.js\");\n",
        "      </script>\n",
        "   </body>\n",
        "</html>"
      ],
      "metadata": {
        "colab": {
          "base_uri": "https://localhost:8080/",
          "height": 34
        },
        "id": "BLGXQ5sFb_3z",
        "outputId": "c84b7537-2be1-4095-ea94-826c77ea55d5"
      },
      "execution_count": null,
      "outputs": [
        {
          "output_type": "display_data",
          "data": {
            "text/plain": [
              "<IPython.core.display.HTML object>"
            ],
            "text/html": [
              "<!DOCTYPE html>\n",
              "<html>\n",
              "   <head>\n",
              "      <script type = \"text/javascript\" src = \"https://d3js.org/d3.v4.min.js\"></script>\n",
              "   </head>\n",
              "\n",
              "   <body>\n",
              "      <div class = \"myclass\">\n",
              "         Hello World!\n",
              "      </div>\n",
              "      \n",
              "      <script>\n",
              "         d3.select(\"div.myclass\").append(\"span\").text(\"from D3.js\");\n",
              "      </script>\n",
              "   </body>\n",
              "</html>\n"
            ]
          },
          "metadata": {}
        }
      ]
    },
    {
      "cell_type": "markdown",
      "source": [
        "# Modifying Elements"
      ],
      "metadata": {
        "id": "SuSRxcjZ-yHy"
      }
    },
    {
      "cell_type": "markdown",
      "source": [
        "**Modifying Elements**\n",
        "\n",
        "D3.js provides various methods, html(), attr() and style() to modify the content and style of the selected elements. Let us see how to use modify methods in this chapter.\n",
        "\n",
        "*1] html() Method:*\n",
        "\n",
        "It is used to set the html content of the selected / appended elements."
      ],
      "metadata": {
        "id": "s5EjEJYLchS6"
      }
    },
    {
      "cell_type": "code",
      "source": [
        "%%html\n",
        "<!DOCTYPE html>\n",
        "<html>\n",
        "   <head>\n",
        "      <script type = \"text/javascript\" src = \"https://d3js.org/d3.v4.min.js\"></script>\n",
        "   </head>\n",
        "\n",
        "   <body>\n",
        "      <div class = \"myclass\">\n",
        "         Hello World!\n",
        "      </div>\n",
        "\n",
        "      <script>\n",
        "         d3.select(\".myclass\").html(\"Hello World! <span>from D3.js</span>\");\n",
        "      </script>\n",
        "   </body>\n",
        "</html>"
      ],
      "metadata": {
        "colab": {
          "base_uri": "https://localhost:8080/",
          "height": 34
        },
        "id": "c9pw3Idgb_1C",
        "outputId": "a075248b-78a6-4fb3-cdf4-da03234f9cf2"
      },
      "execution_count": null,
      "outputs": [
        {
          "output_type": "display_data",
          "data": {
            "text/plain": [
              "<IPython.core.display.HTML object>"
            ],
            "text/html": [
              "<!DOCTYPE html>\n",
              "<html>\n",
              "   <head>\n",
              "      <script type = \"text/javascript\" src = \"https://d3js.org/d3.v4.min.js\"></script>\n",
              "   </head>\n",
              "\n",
              "   <body>\n",
              "      <div class = \"myclass\">\n",
              "         Hello World!\n",
              "      </div>\n",
              "      \n",
              "      <script>\n",
              "         d3.select(\".myclass\").html(\"Hello World! <span>from D3.js</span>\");\n",
              "      </script>\n",
              "   </body>\n",
              "</html>\n"
            ]
          },
          "metadata": {}
        }
      ]
    },
    {
      "cell_type": "markdown",
      "source": [
        "*2] attr() Method:*\n",
        "\n",
        "It is used to add or update the attribute of the selected elements."
      ],
      "metadata": {
        "id": "pp120NAacw_J"
      }
    },
    {
      "cell_type": "code",
      "source": [
        "%%html\n",
        "<!DOCTYPE html>\n",
        "<html>\n",
        "   <head>\n",
        "      <script type = \"text/javascript\" src = \"https://d3js.org/d3.v4.min.js\"></script>\n",
        "   </head>\n",
        "\n",
        "   <body>\n",
        "      <div class = \"myclass\">\n",
        "         Hello World!\n",
        "      </div>\n",
        "\n",
        "      <script>\n",
        "         d3.select(\".myclass\").attr(\"style\", \"color: cyan\");\n",
        "      </script>\n",
        "   </body>\n",
        "</html>"
      ],
      "metadata": {
        "colab": {
          "base_uri": "https://localhost:8080/",
          "height": 34
        },
        "id": "lGgW_Ssbb_x0",
        "outputId": "394dac67-adc5-4027-f226-01e378b1308c"
      },
      "execution_count": 1,
      "outputs": [
        {
          "output_type": "display_data",
          "data": {
            "text/plain": [
              "<IPython.core.display.HTML object>"
            ],
            "text/html": [
              "<!DOCTYPE html>\n",
              "<html>\n",
              "   <head>\n",
              "      <script type = \"text/javascript\" src = \"https://d3js.org/d3.v4.min.js\"></script>\n",
              "   </head>\n",
              "\n",
              "   <body>\n",
              "      <div class = \"myclass\">\n",
              "         Hello World!\n",
              "      </div>\n",
              "\n",
              "      <script>\n",
              "         d3.select(\".myclass\").attr(\"style\", \"color: cyan\");\n",
              "      </script>\n",
              "   </body>\n",
              "</html>\n"
            ]
          },
          "metadata": {}
        }
      ]
    },
    {
      "cell_type": "markdown",
      "source": [
        "3] style() Method:\n",
        "\n",
        "It is used to set the style property of the selected elements."
      ],
      "metadata": {
        "id": "E5k0I2t7dJ-y"
      }
    },
    {
      "cell_type": "code",
      "source": [
        "%%html\n",
        "<!DOCTYPE html>\n",
        "<html>\n",
        "   <head>\n",
        "      <script type = \"text/javascript\" src = \"https://d3js.org/d3.v4.min.js\"></script>\n",
        "   </head>\n",
        "\n",
        "   <body>\n",
        "      <div class = \"myclass\">\n",
        "         Hello World!\n",
        "      </div>\n",
        "\n",
        "      <script>\n",
        "         d3.select(\".myclass\").style(\"color\", \"red\");\n",
        "      </script>\n",
        "   </body>\n",
        "</html>"
      ],
      "metadata": {
        "colab": {
          "base_uri": "https://localhost:8080/",
          "height": 34
        },
        "id": "irHZAnsdb_uy",
        "outputId": "0d0cfb62-5533-4f8d-f4c7-f12006997cc6"
      },
      "execution_count": null,
      "outputs": [
        {
          "output_type": "display_data",
          "data": {
            "text/plain": [
              "<IPython.core.display.HTML object>"
            ],
            "text/html": [
              "<!DOCTYPE html>\n",
              "<html>\n",
              "   <head>\n",
              "      <script type = \"text/javascript\" src = \"https://d3js.org/d3.v4.min.js\"></script>\n",
              "   </head>\n",
              "\n",
              "   <body>\n",
              "      <div class = \"myclass\">\n",
              "         Hello World!\n",
              "      </div>\n",
              "      \n",
              "      <script>\n",
              "         d3.select(\".myclass\").style(\"color\", \"red\");\n",
              "      </script>\n",
              "   </body>\n",
              "</html>\n"
            ]
          },
          "metadata": {}
        }
      ]
    },
    {
      "cell_type": "markdown",
      "source": [
        "# classed():"
      ],
      "metadata": {
        "id": "nBTSEees--eH"
      }
    },
    {
      "cell_type": "markdown",
      "source": [
        "The classed() method is exclusively used to set the “class” attribute of an HTML element."
      ],
      "metadata": {
        "id": "2GRmAkvAAiN_"
      }
    },
    {
      "cell_type": "markdown",
      "source": [
        "**Add class** − To add a class, the second parameter of the classed method must be set to true.\n",
        "\n",
        "**Remove class** − To remove a class, the second parameter of the classed method must be set to false.\n",
        "\n",
        "**Check class** − To check for the existence of a class, just leave off the second parameter and pass the class name you are querying.\n",
        "\n",
        "**Toggle class** − To flip a class to the opposite state – remove it if it exists already, add it if it does not yet exist – you can do one of the following."
      ],
      "metadata": {
        "id": "a8qtJiwzAiKw"
      }
    },
    {
      "cell_type": "code",
      "source": [
        "%%html\n",
        "<!DOCTYPE html>\n",
        "<html>\n",
        "   <head>\n",
        "      <script type = \"text/javascript\" src = \"https://d3js.org/d3.v4.min.js\"></script>\n",
        "   </head>\n",
        "\n",
        "   <body>\n",
        "      <h2 class = \"myclass\">HEY THERE</h2>\n",
        "      <div class = \"myclass\">\n",
        "          VESIT,Chembur -> Khanda Colony,New Panvel\n",
        "      </div>\n",
        "\n",
        "      <script>\n",
        "          // d3.select(\".myclass\").classed(\"myanotherclass\", true);\n",
        "          // d3.select(\".myclass\").classed(\"myanotherclass\");\n",
        "          d3.select(\".myclass\").classed(\"myanotherclass\", false);\n",
        "      </script>\n",
        "   </body>\n",
        "</html>"
      ],
      "metadata": {
        "colab": {
          "base_uri": "https://localhost:8080/",
          "height": 82
        },
        "id": "qjYEzJf_-_6A",
        "outputId": "ba57e7a6-a4eb-4a6f-d85b-6791e7d1aded"
      },
      "execution_count": 5,
      "outputs": [
        {
          "output_type": "display_data",
          "data": {
            "text/plain": [
              "<IPython.core.display.HTML object>"
            ],
            "text/html": [
              "<!DOCTYPE html>\n",
              "<html>\n",
              "   <head>\n",
              "      <script type = \"text/javascript\" src = \"https://d3js.org/d3.v4.min.js\"></script>\n",
              "   </head>\n",
              "\n",
              "   <body>\n",
              "      <h2 class = \"myclass\">HEY THERE</h2>\n",
              "      <div class = \"myclass\">\n",
              "          VESIT,Chembur -> Khanda Colony,New Panvel\n",
              "      </div>\n",
              "\n",
              "      <script>\n",
              "          // d3.select(\".myclass\").classed(\"myanotherclass\", true);\n",
              "          // d3.select(\".myclass\").classed(\"myanotherclass\");\n",
              "          d3.select(\".myclass\").classed(\"myanotherclass\", false);\n",
              "      </script>\n",
              "   </body>\n",
              "</html>\n"
            ]
          },
          "metadata": {}
        }
      ]
    },
    {
      "cell_type": "markdown",
      "source": [
        "# selectAll():\n",
        "The selectAll() method is used to select multiple elements in HTML elements."
      ],
      "metadata": {
        "id": "LKEfO3HVBzqw"
      }
    },
    {
      "cell_type": "code",
      "source": [
        "%%html\n",
        "<!DOCTYPE html>\n",
        "<html>\n",
        "   <head>\n",
        "      <script type = \"text/javascript\" src = \"https://d3js.org/d3.v4.min.js\"></script>\n",
        "   </head>\n",
        "\n",
        "   <body>\n",
        "      <h2 class = \"myclass\">Message</h2>\n",
        "      <div class = \"myclass\">\n",
        "         Hello World!\n",
        "      </div>\n",
        "\n",
        "      <script>\n",
        "         d3.selectAll(\".myclass\").attr(\"style\", \"color: yellow\");\n",
        "      </script>\n",
        "   </body>\n",
        "</html>"
      ],
      "metadata": {
        "id": "-0T33211b_ri",
        "colab": {
          "base_uri": "https://localhost:8080/",
          "height": 82
        },
        "outputId": "44b0619f-0bd6-42cd-b554-e5d43fbc4901"
      },
      "execution_count": 6,
      "outputs": [
        {
          "output_type": "display_data",
          "data": {
            "text/plain": [
              "<IPython.core.display.HTML object>"
            ],
            "text/html": [
              "<!DOCTYPE html>\n",
              "<html>\n",
              "   <head>\n",
              "      <script type = \"text/javascript\" src = \"https://d3js.org/d3.v4.min.js\"></script>\n",
              "   </head>\n",
              "\n",
              "   <body>\n",
              "      <h2 class = \"myclass\">Message</h2>\n",
              "      <div class = \"myclass\">\n",
              "         Hello World!\n",
              "      </div>\n",
              "\n",
              "      <script>\n",
              "         d3.selectAll(\".myclass\").attr(\"style\", \"color: yellow\");\n",
              "      </script>\n",
              "   </body>\n",
              "</html>\n"
            ]
          },
          "metadata": {}
        }
      ]
    },
    {
      "cell_type": "markdown",
      "source": [
        "#Data Join\n",
        "The HTML defines a list with two empty list items, and a button to remove the fourth value from the list.\n",
        "\n",
        "The JavaScript section uses D3.js to select the ul element with the id list and then selects all existing li elements inside it.\n",
        "\n",
        "It binds a dataset [10, 20, 30, 25, 15] to these list items using the .data method. This dataset will be used to create or update list items based on its values.\n",
        "\n",
        "The .text method is used to set the text content of each list item. The first .text call updates the existing list items with text like \"This is pre-existing element and the value is \" followed by the corresponding value from the dataset.\n",
        "\n",
        "The .enter method selects any data elements that don't have corresponding DOM elements, and for each missing element, it appends a new li element to the list.\n",
        "\n",
        "For these new list items, another .text call sets the text content similar to the previous one, but this time it specifies that these are dynamically created elements.\n",
        "\n",
        "The remove function is defined to handle the button click event. When the button is clicked, it selects all li elements again, binds a new dataset [10, 20, 30, 15] to them , and then uses the .exit, .remove sequence. This sequence removes any extra elements from the list because they are no longer part of the bound dataset."
      ],
      "metadata": {
        "id": "nMy1FD3Zhq3k"
      }
    },
    {
      "cell_type": "code",
      "source": [
        "%%html\n",
        "<!DOCTYPE html>\n",
        "<html>\n",
        "   <head>\n",
        "      <script type = \"text/javascript\" src = \"https://d3js.org/d3.v4.min.js\"></script>\n",
        "      <style>\n",
        "         body { font-family: Arial; }\n",
        "      </style>\n",
        "   </head>\n",
        "\n",
        "   <body>\n",
        "      <ul id = \"list\">\n",
        "         <li></li>\n",
        "         <li></li>\n",
        "      </ul>\n",
        "\n",
        "      <input type = \"button\" name = \"remove\" value = \"Remove fourth value\"\n",
        "         onclick = \"javascript:remove()\" />\n",
        "\n",
        "      <script>\n",
        "         d3.select(\"#list\").selectAll(\"li\")\n",
        "            .data([90,29,740,846])\n",
        "            .text(function(d)\n",
        "               { return \"This is pre-existing element and the value is \" + d; })\n",
        "            .enter()\n",
        "            .append(\"li\")\n",
        "            .text(function(d)\n",
        "               { return \"This is dynamically created element and the value is \" + d; });\n",
        "\n",
        "         function remove() {\n",
        "            d3.selectAll(\"li\")\n",
        "            .data([90,29,740,846])\n",
        "            .exit()\n",
        "            .remove()\n",
        "         }\n",
        "      </script>\n",
        "   </body>\n",
        "</html>"
      ],
      "metadata": {
        "id": "x5U8WpGEb_oy",
        "colab": {
          "base_uri": "https://localhost:8080/",
          "height": 117
        },
        "outputId": "60e73bbd-a64c-447c-f22e-a1d519fdccfc"
      },
      "execution_count": 8,
      "outputs": [
        {
          "output_type": "display_data",
          "data": {
            "text/plain": [
              "<IPython.core.display.HTML object>"
            ],
            "text/html": [
              "<!DOCTYPE html>\n",
              "<html>\n",
              "   <head>\n",
              "      <script type = \"text/javascript\" src = \"https://d3js.org/d3.v4.min.js\"></script>\n",
              "      <style>\n",
              "         body { font-family: Arial; }\n",
              "      </style>\n",
              "   </head>\n",
              "\n",
              "   <body>\n",
              "      <ul id = \"list\">\n",
              "         <li></li>\n",
              "         <li></li>\n",
              "      </ul>\n",
              "\n",
              "      <input type = \"button\" name = \"remove\" value = \"Remove fourth value\"\n",
              "         onclick = \"javascript:remove()\" />\n",
              "\n",
              "      <script>\n",
              "         d3.select(\"#list\").selectAll(\"li\")\n",
              "            .data([90,29,740,846])\n",
              "            .text(function(d)\n",
              "               { return \"This is pre-existing element and the value is \" + d; })\n",
              "            .enter()\n",
              "            .append(\"li\")\n",
              "            .text(function(d)\n",
              "               { return \"This is dynamically created element and the value is \" + d; });\n",
              "\n",
              "         function remove() {\n",
              "            d3.selectAll(\"li\")\n",
              "            .data([90,29,740,846])\n",
              "            .exit()\n",
              "            .remove()\n",
              "         }\n",
              "      </script>\n",
              "   </body>\n",
              "</html>\n"
            ]
          },
          "metadata": {}
        }
      ]
    },
    {
      "cell_type": "markdown",
      "source": [
        "#SVG\n",
        "\n",
        "SVG stands for Scalable Vector Graphics. SVG is an XML-based vector graphics format. It provides options to draw different shapes such as Lines, Rectangles, Circles, Ellipses, etc. Hence, designing visualizations with SVG gives you more power and flexibility.\n",
        "\n",
        "Features of SVG:\n",
        "\n",
        "SVG is a vector based image format and it is text-based.\n",
        "SVG is similar in structure to HTML.\n",
        "SVG can be represented as a Document object model.\n",
        "SVG properties can be specified as attributes.\n",
        "SVG should have absolute positions relative to the origin (0, 0).\n",
        "SVG can be included as is in the HTML document.\n",
        "Step 1 − Create a SVG image and set width as 300 pixel and height as 300 pixel.\n",
        "\n",
        "Step 2 − Create a line starting at 100, 100 and ending at 200, 100 and set red color for the line.\n",
        "\n",
        "Step 3 − Create a HTML document, “svg_line.html” and integrate the above SVG"
      ],
      "metadata": {
        "id": "76LfLGF6hsJW"
      }
    },
    {
      "cell_type": "code",
      "source": [
        "%%html\n",
        "<!DOCTYPE html>\n",
        "<html>\n",
        "   <head>\n",
        "      <script type = \"text/javascript\" src = \"https://d3js.org/d3.v4.min.js\"></script>\n",
        "      <style>\n",
        "         body { font-family: Arial; }\n",
        "      </style>\n",
        "   </head>\n",
        "\n",
        "   <body>\n",
        "      <div id = \"svgcontainer\">\n",
        "         <svg width = \"300\" height = \"300\">\n",
        "            <line x1 = \"200\" y1 = \"100\"\n",
        "               x2 = \"420\" y2 = \"20\" style = \"stroke:rgb(0,255,0);\n",
        "               stroke-width:2\"/>\n",
        "         </svg>\n",
        "      </div>\n",
        "      <p></p>\n",
        "      <p></p>\n",
        "   </body>\n",
        "</html>"
      ],
      "metadata": {
        "id": "yPCjAVkIhr3_",
        "colab": {
          "base_uri": "https://localhost:8080/",
          "height": 0
        },
        "outputId": "20656310-a8e4-4b2c-c3c4-af62397262c2"
      },
      "execution_count": 15,
      "outputs": [
        {
          "output_type": "display_data",
          "data": {
            "text/plain": [
              "<IPython.core.display.HTML object>"
            ],
            "text/html": [
              "<!DOCTYPE html>\n",
              "<html>\n",
              "   <head>\n",
              "      <script type = \"text/javascript\" src = \"https://d3js.org/d3.v4.min.js\"></script>\n",
              "      <style>\n",
              "         body { font-family: Arial; }\n",
              "      </style>\n",
              "   </head>\n",
              "\n",
              "   <body>\n",
              "      <div id = \"svgcontainer\">\n",
              "         <svg width = \"300\" height = \"300\">\n",
              "            <line x1 = \"200\" y1 = \"100\"\n",
              "               x2 = \"420\" y2 = \"20\" style = \"stroke:rgb(0,255,0);\n",
              "               stroke-width:2\"/>\n",
              "         </svg>\n",
              "      </div>\n",
              "      <p></p>\n",
              "      <p></p>\n",
              "   </body>\n",
              "</html>\n"
            ]
          },
          "metadata": {}
        }
      ]
    },
    {
      "cell_type": "markdown",
      "source": [
        "#SVG using D3.js\n",
        "\n",
        "Step 1 − Create a container to hold the SVG image as given below.\n",
        "\n",
        "Step 2 − Select the SVG container using the select() method and inject the SVG element using the append() method. Add the attributes and styles using the attr() and the style() methods.\n",
        "\n",
        "Step 3 − Similarly, add the line element inside the svg element as shown below."
      ],
      "metadata": {
        "id": "lnTi8Ooohsme"
      }
    },
    {
      "cell_type": "code",
      "source": [
        "%%html\n",
        "<!DOCTYPE html>\n",
        "<html>\n",
        "   <head>\n",
        "      <script type = \"text/javascript\" src = \"https://d3js.org/d3.v4.min.js\"></script>\n",
        "      <style>\n",
        "         body { font-family: Arial; }\n",
        "      </style>\n",
        "   </head>\n",
        "\n",
        "   <body>\n",
        "      <div id = \"svgcontainer\">\n",
        "      </div>\n",
        "      <script language = \"javascript\">\n",
        "         var width = 300;\n",
        "         var height = 300;\n",
        "         var svg = d3.select(\"#svgcontainer\")\n",
        "            .append(\"svg\")\n",
        "            .attr(\"width\", width)\n",
        "            .attr(\"height\", height);\n",
        "         svg.append(\"line\")\n",
        "            .attr(\"x1\", 100)\n",
        "            .attr(\"y1\", 100)\n",
        "            .attr(\"x2\", 200)\n",
        "            .attr(\"y2\", 200)\n",
        "            .style(\"stroke\", \"rgb(0,255,0)\")\n",
        "            .style(\"stroke-width\", 2);\n",
        "      </script>\n",
        "   </body>\n",
        "</html>"
      ],
      "metadata": {
        "id": "zBHLC6Mvhrxg",
        "colab": {
          "base_uri": "https://localhost:8080/",
          "height": 322
        },
        "outputId": "9613eddf-7b67-4d51-8651-d4abceeaba66"
      },
      "execution_count": 14,
      "outputs": [
        {
          "output_type": "display_data",
          "data": {
            "text/plain": [
              "<IPython.core.display.HTML object>"
            ],
            "text/html": [
              "<!DOCTYPE html>\n",
              "<html>\n",
              "   <head>\n",
              "      <script type = \"text/javascript\" src = \"https://d3js.org/d3.v4.min.js\"></script>\n",
              "      <style>\n",
              "         body { font-family: Arial; }\n",
              "      </style>\n",
              "   </head>\n",
              "\n",
              "   <body>\n",
              "      <div id = \"svgcontainer\">\n",
              "      </div>\n",
              "      <script language = \"javascript\">\n",
              "         var width = 300;\n",
              "         var height = 300;\n",
              "         var svg = d3.select(\"#svgcontainer\")\n",
              "            .append(\"svg\")\n",
              "            .attr(\"width\", width)\n",
              "            .attr(\"height\", height);\n",
              "         svg.append(\"line\")\n",
              "            .attr(\"x1\", 100)\n",
              "            .attr(\"y1\", 100)\n",
              "            .attr(\"x2\", 200)\n",
              "            .attr(\"y2\", 200)\n",
              "            .style(\"stroke\", \"rgb(0,255,0)\")\n",
              "            .style(\"stroke-width\", 2);\n",
              "      </script>\n",
              "   </body>\n",
              "</html>\n"
            ]
          },
          "metadata": {}
        }
      ]
    },
    {
      "cell_type": "markdown",
      "source": [
        "#Rectangle Element\n",
        "A rectangle is represented by the rect tag as shown below.\n",
        "\n",
        "The attributes of a rectangle are as follows −\n",
        "\n",
        "x − This is the x-coordinate of the top-left corner of the rectangle.\n",
        "\n",
        "y − This is the y-coordinate of the top-left corner of the rectangle.\n",
        "\n",
        "width − This denotes the width of the rectangle.\n",
        "\n",
        "height − This denotes the height of the rectangle."
      ],
      "metadata": {
        "id": "S-j373Aohtsn"
      }
    },
    {
      "cell_type": "code",
      "source": [
        "%%html\n",
        "<!DOCTYPE html>\n",
        "<html>\n",
        "   <head>\n",
        "      <script type = \"text/javascript\" src = \"https://d3js.org/d3.v4.min.js\"></script>\n",
        "   </head>\n",
        "\n",
        "   <body>\n",
        "      <div id = \"svgcontainer\"></div>\n",
        "      <script>\n",
        "         var width = 300;\n",
        "         var height = 120;\n",
        "         //Create SVG element\n",
        "         var svg = d3.select(\"#svgcontainer\")\n",
        "            .append(\"svg\")\n",
        "            .attr(\"width\", width)\n",
        "            .attr(\"height\", height);\n",
        "         //Create and append rectangle element\n",
        "         svg.append(\"rect\")\n",
        "            .attr(\"x\", 10)\n",
        "            .attr(\"y\", 30)\n",
        "            .attr(\"width\", 400)\n",
        "            .attr(\"height\", 100)\n",
        "            .attr(\"fill\", \"orange\");\n",
        "\n",
        "        svg.append(\"rect\")\n",
        "            .attr(\"x\", 10)\n",
        "            .attr(\"y\", 60)\n",
        "            .attr(\"width\", 400)\n",
        "            .attr(\"height\", 100)\n",
        "            .attr(\"fill\", \"white\");\n",
        "\n",
        "        svg.append(\"rect\")\n",
        "            .attr(\"x\", 10)\n",
        "            .attr(\"y\", 90)\n",
        "            .attr(\"width\", 400)\n",
        "            .attr(\"height\", 100)\n",
        "            .attr(\"fill\", \"green\");\n",
        "      </script>\n",
        "   </body>\n",
        "</html>"
      ],
      "metadata": {
        "id": "jJIYBxCihruO",
        "colab": {
          "base_uri": "https://localhost:8080/",
          "height": 142
        },
        "outputId": "4ecc3834-9a7e-4d2f-9d85-1399695f6260"
      },
      "execution_count": 51,
      "outputs": [
        {
          "output_type": "display_data",
          "data": {
            "text/plain": [
              "<IPython.core.display.HTML object>"
            ],
            "text/html": [
              "<!DOCTYPE html>\n",
              "<html>\n",
              "   <head>\n",
              "      <script type = \"text/javascript\" src = \"https://d3js.org/d3.v4.min.js\"></script>\n",
              "   </head>\n",
              "\n",
              "   <body>\n",
              "      <div id = \"svgcontainer\"></div>\n",
              "      <script>\n",
              "         var width = 300;\n",
              "         var height = 120;\n",
              "         //Create SVG element\n",
              "         var svg = d3.select(\"#svgcontainer\")\n",
              "            .append(\"svg\")\n",
              "            .attr(\"width\", width)\n",
              "            .attr(\"height\", height);\n",
              "         //Create and append rectangle element\n",
              "         svg.append(\"rect\")\n",
              "            .attr(\"x\", 10)\n",
              "            .attr(\"y\", 30)\n",
              "            .attr(\"width\", 400)\n",
              "            .attr(\"height\", 100)\n",
              "            .attr(\"fill\", \"orange\");\n",
              "\n",
              "        svg.append(\"rect\")\n",
              "            .attr(\"x\", 10)\n",
              "            .attr(\"y\", 60)\n",
              "            .attr(\"width\", 400)\n",
              "            .attr(\"height\", 100)\n",
              "            .attr(\"fill\", \"white\");\n",
              "\n",
              "        svg.append(\"rect\")\n",
              "            .attr(\"x\", 10)\n",
              "            .attr(\"y\", 90)\n",
              "            .attr(\"width\", 400)\n",
              "            .attr(\"height\", 100)\n",
              "            .attr(\"fill\", \"green\");\n",
              "      </script>\n",
              "   </body>\n",
              "</html>\n"
            ]
          },
          "metadata": {}
        }
      ]
    },
    {
      "cell_type": "markdown",
      "source": [
        "#Circle Element\n",
        "\n",
        "A circle is represented by the circle tag as explained below. The attributes of circle are as follows −\n",
        "\n",
        "cx − This is the x-coordinate of the center of the circle.\n",
        "\n",
        "cy − This is the y-coordinate of the center of the circle.\n",
        "\n",
        "r − This denotes the radius of the circle."
      ],
      "metadata": {
        "id": "qvm2YvwghuE3"
      }
    },
    {
      "cell_type": "code",
      "source": [
        "%%html\n",
        "<!DOCTYPE html>\n",
        "<html>\n",
        "   <head>\n",
        "      <script type = \"text/javascript\" src = \"https://d3js.org/d3.v4.min.js\"></script>\n",
        "   </head>\n",
        "\n",
        "   <body>\n",
        "      <div id = \"svgcontainer\"></div>\n",
        "      <script>\n",
        "         var width = 900;\n",
        "         var height = 300;\n",
        "         //Create SVG element\n",
        "         var svg = d3.select(\"#svgcontainer\")\n",
        "            .append(\"svg\")\n",
        "            .attr(\"width\", width)\n",
        "            .attr(\"height\", height);\n",
        "         //Append circle\n",
        "         svg.append(\"circle\")\n",
        "            .attr(\"cx\", 200)\n",
        "            .attr(\"cy\", 120)\n",
        "            .attr(\"r\", 100)\n",
        "            .attr(\"fill\", \"red\");\n",
        "\n",
        "         svg.append(\"circle\")\n",
        "            .attr(\"cx\", 500)\n",
        "            .attr(\"cy\", 120)\n",
        "            .attr(\"r\", 100)\n",
        "            .attr(\"fill\", \"yellow\");\n",
        "\n",
        "        svg.append(\"circle\")\n",
        "            .attr(\"cx\", 800)\n",
        "            .attr(\"cy\", 120)\n",
        "            .attr(\"r\", 100)\n",
        "            .attr(\"fill\", \"green\");\n",
        "      </script>\n",
        "   </body>\n",
        "</html>"
      ],
      "metadata": {
        "id": "SgNAY3syhrrG",
        "colab": {
          "base_uri": "https://localhost:8080/",
          "height": 322
        },
        "outputId": "873102a9-8122-4c79-bb27-685b7e0e9064"
      },
      "execution_count": 35,
      "outputs": [
        {
          "output_type": "display_data",
          "data": {
            "text/plain": [
              "<IPython.core.display.HTML object>"
            ],
            "text/html": [
              "<!DOCTYPE html>\n",
              "<html>\n",
              "   <head>\n",
              "      <script type = \"text/javascript\" src = \"https://d3js.org/d3.v4.min.js\"></script>\n",
              "   </head>\n",
              "\n",
              "   <body>\n",
              "      <div id = \"svgcontainer\"></div>\n",
              "      <script>\n",
              "         var width = 900;\n",
              "         var height = 300;\n",
              "         //Create SVG element\n",
              "         var svg = d3.select(\"#svgcontainer\")\n",
              "            .append(\"svg\")\n",
              "            .attr(\"width\", width)\n",
              "            .attr(\"height\", height);\n",
              "         //Append circle\n",
              "         svg.append(\"circle\")\n",
              "            .attr(\"cx\", 200)\n",
              "            .attr(\"cy\", 120)\n",
              "            .attr(\"r\", 100)\n",
              "            .attr(\"fill\", \"red\");\n",
              "     \n",
              "         svg.append(\"circle\")\n",
              "            .attr(\"cx\", 500)\n",
              "            .attr(\"cy\", 120)\n",
              "            .attr(\"r\", 100)\n",
              "            .attr(\"fill\", \"yellow\");\n",
              "      \n",
              "        svg.append(\"circle\")\n",
              "            .attr(\"cx\", 800)\n",
              "            .attr(\"cy\", 120)\n",
              "            .attr(\"r\", 100)\n",
              "            .attr(\"fill\", \"green\");\n",
              "      </script>\n",
              "   </body>\n",
              "</html>\n"
            ]
          },
          "metadata": {}
        }
      ]
    },
    {
      "cell_type": "markdown",
      "source": [
        "## **Ellipse Element**\n",
        "\n",
        "The SVG **Ellipse** element is represented by the <ellipse> tag as explained below.\n",
        "The attributes of an ellipse are as follows −\n",
        "\n",
        "cx − This is the x-coordinate of the center of the ellipse.\n",
        "\n",
        "cy − This is the y-coordinate of the center of the ellipse.\n",
        "\n",
        "rx − This is the x radius of the circle.\n",
        "\n",
        "ry − This is the y radius of the circle."
      ],
      "metadata": {
        "id": "FGRnQpWlG7_K"
      }
    },
    {
      "cell_type": "code",
      "source": [
        "%%html\n",
        "<html>\n",
        "   <head>\n",
        "      <script type = \"text/javascript\" src = \"https://d3js.org/d3.v4.min.js\"></script>\n",
        "   </head>\n",
        "\n",
        "   <body>\n",
        "      <div id = \"svgcontainer\"></div>\n",
        "      <script>\n",
        "         var width = 300;\n",
        "         var height = 100;\n",
        "         var svg = d3.select(\"#svgcontainer\")\n",
        "            .append(\"svg\")\n",
        "            .attr(\"width\", width)\n",
        "            .attr(\"height\", height);\n",
        "         svg.append(\"ellipse\")\n",
        "            .attr(\"cx\", 200)\n",
        "            .attr(\"cy\", 50)\n",
        "            .attr(\"rx\", 100)\n",
        "            .attr(\"ry\", 50)\n",
        "            .attr(\"fill\", \"black\")\n",
        "      </script>\n",
        "   </body>\n",
        "</html>"
      ],
      "metadata": {
        "colab": {
          "base_uri": "https://localhost:8080/",
          "height": 122
        },
        "id": "QhJkhEOhG8To",
        "outputId": "0db66d25-012b-493e-a36f-ce63d3025ad4"
      },
      "execution_count": 62,
      "outputs": [
        {
          "output_type": "display_data",
          "data": {
            "text/plain": [
              "<IPython.core.display.HTML object>"
            ],
            "text/html": [
              "<html>\n",
              "   <head>\n",
              "      <script type = \"text/javascript\" src = \"https://d3js.org/d3.v4.min.js\"></script>\n",
              "   </head>\n",
              "\n",
              "   <body>\n",
              "      <div id = \"svgcontainer\"></div>\n",
              "      <script>\n",
              "         var width = 300;\n",
              "         var height = 100;\n",
              "         var svg = d3.select(\"#svgcontainer\")\n",
              "            .append(\"svg\")\n",
              "            .attr(\"width\", width)\n",
              "            .attr(\"height\", height);\n",
              "         svg.append(\"ellipse\")\n",
              "            .attr(\"cx\", 200)\n",
              "            .attr(\"cy\", 50)\n",
              "            .attr(\"rx\", 100)\n",
              "            .attr(\"ry\", 50)\n",
              "            .attr(\"fill\", \"black\")\n",
              "      </script>\n",
              "   </body>\n",
              "</html>\n"
            ]
          },
          "metadata": {}
        }
      ]
    },
    {
      "cell_type": "markdown",
      "source": [
        "# experimenting with the code"
      ],
      "metadata": {
        "id": "1XIjnRVVhufG"
      }
    },
    {
      "cell_type": "code",
      "source": [
        "%%html\n",
        "<!DOCTYPE html>\n",
        "<html>\n",
        "   <head>\n",
        "      <script type = \"text/javascript\" src = \"https://d3js.org/d3.v4.min.js\"></script>\n",
        "   </head>\n",
        "\n",
        "   <body>\n",
        "      <div id = \"svgcontainer\"></div>\n",
        "      <script>\n",
        "         var width = 300;\n",
        "         var height = 120;\n",
        "         //Create SVG element\n",
        "         var svg = d3.select(\"#svgcontainer\")\n",
        "            .append(\"svg\")\n",
        "            .attr(\"width\", width)\n",
        "            .attr(\"height\", height);\n",
        "         //Create and append rectangle element\n",
        "         svg.append(\"rect\")\n",
        "            .attr(\"x\", 10)\n",
        "            .attr(\"y\", 30)\n",
        "            .attr(\"width\", 400)\n",
        "            .attr(\"height\", 100)\n",
        "            .attr(\"fill\", \"orange\");\n",
        "        svg.append(\"rect\")\n",
        "            .attr(\"x\", 10)\n",
        "            .attr(\"y\", 60)\n",
        "            .attr(\"width\", 400)\n",
        "            .attr(\"height\", 100)\n",
        "            .attr(\"fill\", \"white\");\n",
        "        svg.append(\"rect\")\n",
        "            .attr(\"x\", 10)\n",
        "            .attr(\"y\", 90)\n",
        "            .attr(\"width\", 400)\n",
        "            .attr(\"height\", 100)\n",
        "            .attr(\"fill\", \"green\");\n",
        "        svg.append(\"circle\")\n",
        "            .attr(\"cx\", 150)\n",
        "            .attr(\"cy\", 75)\n",
        "            .attr(\"r\", 15)\n",
        "            .attr(\"fill\", \"blue\");\n",
        "      </script>\n",
        "   </body>\n",
        "</html>"
      ],
      "metadata": {
        "id": "tV-2_ImAhroI",
        "colab": {
          "base_uri": "https://localhost:8080/",
          "height": 142
        },
        "outputId": "92ea7eeb-3afc-4875-d815-c7cabc17fed8"
      },
      "execution_count": 59,
      "outputs": [
        {
          "output_type": "display_data",
          "data": {
            "text/plain": [
              "<IPython.core.display.HTML object>"
            ],
            "text/html": [
              "<!DOCTYPE html>\n",
              "<html>\n",
              "   <head>\n",
              "      <script type = \"text/javascript\" src = \"https://d3js.org/d3.v4.min.js\"></script>\n",
              "   </head>\n",
              "\n",
              "   <body>\n",
              "      <div id = \"svgcontainer\"></div>\n",
              "      <script>\n",
              "         var width = 300;\n",
              "         var height = 120;\n",
              "         //Create SVG element\n",
              "         var svg = d3.select(\"#svgcontainer\")\n",
              "            .append(\"svg\")\n",
              "            .attr(\"width\", width)\n",
              "            .attr(\"height\", height);\n",
              "         //Create and append rectangle element\n",
              "         svg.append(\"rect\")\n",
              "            .attr(\"x\", 10)\n",
              "            .attr(\"y\", 30)\n",
              "            .attr(\"width\", 400)\n",
              "            .attr(\"height\", 100)\n",
              "            .attr(\"fill\", \"orange\");\n",
              "        svg.append(\"rect\")\n",
              "            .attr(\"x\", 10)\n",
              "            .attr(\"y\", 60)\n",
              "            .attr(\"width\", 400)\n",
              "            .attr(\"height\", 100)\n",
              "            .attr(\"fill\", \"white\");\n",
              "        svg.append(\"rect\")\n",
              "            .attr(\"x\", 10)\n",
              "            .attr(\"y\", 90)\n",
              "            .attr(\"width\", 400)\n",
              "            .attr(\"height\", 100)\n",
              "            .attr(\"fill\", \"green\");\n",
              "        svg.append(\"circle\")\n",
              "            .attr(\"cx\", 150)\n",
              "            .attr(\"cy\", 75)\n",
              "            .attr(\"r\", 15)\n",
              "            .attr(\"fill\", \"blue\");\n",
              "      </script>\n",
              "   </body>\n",
              "</html>\n"
            ]
          },
          "metadata": {}
        }
      ]
    },
    {
      "cell_type": "markdown",
      "source": [
        "#SVG transformation"
      ],
      "metadata": {
        "id": "ZzJE7HxmhuyO"
      }
    },
    {
      "cell_type": "markdown",
      "source": [
        "SVG provides options to transform a single SVG shape element or group of SVG elements. SVG transform supports Translate, Scale, Rotate and Skew. SVG introduces a new attribute, transform to support transformation."
      ],
      "metadata": {
        "id": "KwXb9d8BIXtg"
      }
    },
    {
      "cell_type": "markdown",
      "source": [
        "SVG rectangle with translate"
      ],
      "metadata": {
        "id": "oMy4868KIbUT"
      }
    },
    {
      "cell_type": "code",
      "source": [
        "%%html\n",
        "<html>\n",
        "   <head>\n",
        "      <script type = \"text/javascript\" src = \"https://d3js.org/d3.v4.min.js\"></script>\n",
        "   </head>\n",
        "\n",
        "   <body>\n",
        "      <svg width = \"1000\" height = \"700\">\n",
        "        <rect x = \"0\"\n",
        "            y = \"23\"\n",
        "            width = \"30\"\n",
        "            height = \"107\"\n",
        "            fill = \"red\"\n",
        "            transform = \"translate(30 30)\">\n",
        "         </rect>\n",
        "         <rect x = \"120\"\n",
        "            y = \"30\"\n",
        "            width = \"30\"\n",
        "            height = \"200\"\n",
        "            fill = \"red\"\n",
        "            transform = \"translate(30 30)\">\n",
        "         </rect>\n",
        "         <rect x = \"0\"\n",
        "            y = \"200\"\n",
        "            width = \"150\"\n",
        "            height = \"30\"\n",
        "            fill = \"red\"\n",
        "            transform = \"translate(30 30)\">\n",
        "         </rect>\n",
        "         <rect x = \"120\"\n",
        "            y = \"20\"\n",
        "            width = \"150\"\n",
        "            height = \"30\"\n",
        "            fill = \"red\"\n",
        "            transform = \"translate(30 30)\">\n",
        "         </rect>\n",
        "         <rect x = \"30\"\n",
        "            y = \"100\"\n",
        "            width = \"239\"\n",
        "            height = \"30\"\n",
        "            fill = \"red\"\n",
        "            transform = \"translate(30 30)\">\n",
        "         <rect x = \"250\"\n",
        "            y = \"150\"\n",
        "            width = \"30\"\n",
        "            height = \"130\"\n",
        "            fill = \"red\"\n",
        "            transform = \"translate(30 30)\">\n",
        "         </rect>\n",
        "      </svg>\n",
        "   </body>\n",
        "</html>"
      ],
      "metadata": {
        "id": "sP4XndnFhrlA",
        "colab": {
          "base_uri": "https://localhost:8080/",
          "height": 722
        },
        "outputId": "7494ba27-9d90-471d-fa3b-a6d59723ab06"
      },
      "execution_count": 137,
      "outputs": [
        {
          "output_type": "display_data",
          "data": {
            "text/plain": [
              "<IPython.core.display.HTML object>"
            ],
            "text/html": [
              "<html>\n",
              "   <head>\n",
              "      <script type = \"text/javascript\" src = \"https://d3js.org/d3.v4.min.js\"></script>\n",
              "   </head>\n",
              "\n",
              "   <body>\n",
              "      <svg width = \"1000\" height = \"700\">\n",
              "        <rect x = \"0\"\n",
              "            y = \"23\"\n",
              "            width = \"30\"\n",
              "            height = \"107\"\n",
              "            fill = \"red\"\n",
              "            transform = \"translate(30 30)\">\n",
              "         </rect>\n",
              "         <rect x = \"120\"\n",
              "            y = \"30\"\n",
              "            width = \"30\"\n",
              "            height = \"200\"\n",
              "            fill = \"red\"\n",
              "            transform = \"translate(30 30)\">\n",
              "         </rect>\n",
              "         <rect x = \"0\"\n",
              "            y = \"200\"\n",
              "            width = \"150\"\n",
              "            height = \"30\"\n",
              "            fill = \"red\"\n",
              "            transform = \"translate(30 30)\">\n",
              "         </rect>\n",
              "         <rect x = \"120\"\n",
              "            y = \"20\"\n",
              "            width = \"150\"\n",
              "            height = \"30\"\n",
              "            fill = \"red\"\n",
              "            transform = \"translate(30 30)\">\n",
              "         </rect>\n",
              "         <rect x = \"30\"\n",
              "            y = \"100\"\n",
              "            width = \"239\"\n",
              "            height = \"30\"\n",
              "            fill = \"red\"\n",
              "            transform = \"translate(30 30)\">  \n",
              "         <rect x = \"250\"\n",
              "            y = \"150\"\n",
              "            width = \"30\"\n",
              "            height = \"130\"\n",
              "            fill = \"red\"\n",
              "            transform = \"translate(30 30)\"> \n",
              "         </rect>\n",
              "      </svg>\n",
              "   </body>\n",
              "</html>\n"
            ]
          },
          "metadata": {}
        }
      ]
    },
    {
      "cell_type": "markdown",
      "source": [
        "More than one transformation can be specified for a single SVG element using space as separation. If more than one value is specified, the transformation will be applied one by one sequentially in the order specified."
      ],
      "metadata": {
        "id": "hz5NfDJ3hvIm"
      }
    },
    {
      "cell_type": "code",
      "source": [
        "%%html\n",
        "<html>\n",
        "   <head>\n",
        "      <script type = \"text/javascript\" src = \"https://d3js.org/d3.v4.min.js\"></script>\n",
        "   </head>\n",
        "\n",
        "   <body>\n",
        "      <svg width = \"1000\" height = \"700\">\n",
        "        <rect x = \"0\"\n",
        "            y = \"23\"\n",
        "            width = \"30\"\n",
        "            height = \"107\"\n",
        "            fill = \"red\"\n",
        "             transform = \"translate(60 60) rotate(45)\">\n",
        "         </rect>\n",
        "         <rect x = \"120\"\n",
        "            y = \"30\"\n",
        "            width = \"30\"\n",
        "            height = \"200\"\n",
        "            fill = \"red\"\n",
        "             transform = \"translate(60 60) rotate(45)\">\n",
        "         </rect>\n",
        "         <rect x = \"0\"\n",
        "            y = \"200\"\n",
        "            width = \"150\"\n",
        "            height = \"30\"\n",
        "            fill = \"red\"\n",
        "             transform = \"translate(60 60) rotate(45)\">\n",
        "         </rect>\n",
        "         <rect x = \"120\"\n",
        "            y = \"20\"\n",
        "            width = \"150\"\n",
        "            height = \"30\"\n",
        "            fill = \"red\"\n",
        "            transform = \"translate(60 60) rotate(45)\">\n",
        "         </rect>\n",
        "         <rect x = \"30\"\n",
        "            y = \"100\"\n",
        "            width = \"239\"\n",
        "            height = \"30\"\n",
        "            fill = \"red\"\n",
        "             transform = \"translate(60 60) rotate(45)\">\n",
        "         <rect x = \"250\"\n",
        "            y = \"150\"\n",
        "            width = \"30\"\n",
        "            height = \"130\"\n",
        "            fill = \"red\"\n",
        "             transform = \"translate(60 60) rotate(45)\">\n",
        "         </rect>\n",
        "      </svg>\n",
        "   </body>\n",
        "</html>"
      ],
      "metadata": {
        "id": "r2bg9klUhrh3",
        "colab": {
          "base_uri": "https://localhost:8080/",
          "height": 722
        },
        "outputId": "fbc1ba1d-1046-40e2-dd91-36a2c6137fd2"
      },
      "execution_count": 139,
      "outputs": [
        {
          "output_type": "display_data",
          "data": {
            "text/plain": [
              "<IPython.core.display.HTML object>"
            ],
            "text/html": [
              "<html>\n",
              "   <head>\n",
              "      <script type = \"text/javascript\" src = \"https://d3js.org/d3.v4.min.js\"></script>\n",
              "   </head>\n",
              "\n",
              "   <body>\n",
              "      <svg width = \"1000\" height = \"700\">\n",
              "        <rect x = \"0\"\n",
              "            y = \"23\"\n",
              "            width = \"30\"\n",
              "            height = \"107\"\n",
              "            fill = \"red\"\n",
              "             transform = \"translate(60 60) rotate(45)\">\n",
              "         </rect>\n",
              "         <rect x = \"120\"\n",
              "            y = \"30\"\n",
              "            width = \"30\"\n",
              "            height = \"200\"\n",
              "            fill = \"red\"\n",
              "             transform = \"translate(60 60) rotate(45)\">\n",
              "         </rect>\n",
              "         <rect x = \"0\"\n",
              "            y = \"200\"\n",
              "            width = \"150\"\n",
              "            height = \"30\"\n",
              "            fill = \"red\"\n",
              "             transform = \"translate(60 60) rotate(45)\">\n",
              "         </rect>\n",
              "         <rect x = \"120\"\n",
              "            y = \"20\"\n",
              "            width = \"150\"\n",
              "            height = \"30\"\n",
              "            fill = \"red\"\n",
              "            transform = \"translate(60 60) rotate(45)\">\n",
              "         </rect>\n",
              "         <rect x = \"30\"\n",
              "            y = \"100\"\n",
              "            width = \"239\"\n",
              "            height = \"30\"\n",
              "            fill = \"red\"\n",
              "             transform = \"translate(60 60) rotate(45)\"> \n",
              "         <rect x = \"250\"\n",
              "            y = \"150\"\n",
              "            width = \"30\"\n",
              "            height = \"130\"\n",
              "            fill = \"red\"\n",
              "             transform = \"translate(60 60) rotate(45)\"> \n",
              "         </rect>\n",
              "      </svg>\n",
              "   </body>\n",
              "</html>\n"
            ]
          },
          "metadata": {}
        }
      ]
    },
    {
      "cell_type": "markdown",
      "source": [
        "# **Transformation Using D3.js**\n",
        "\n",
        "Step 1 − Create a container to hold the SVG image\n",
        "\n",
        "Step 2 − Create a SVG image\n",
        "\n",
        "Step 3 − Create a SVG group element and set translate and rotate attributes.\n",
        "\n",
        "Step 4 − Create an SVG rectangle and append it inside the group.\n",
        "\n",
        "Step 5 − Create an SVG circle and append it inside the group.\n"
      ],
      "metadata": {
        "id": "MTdBXkJPNc2R"
      }
    },
    {
      "cell_type": "code",
      "source": [
        "%%html\n",
        "<!DOCTYPE html>\n",
        "<html lang = \"en\">\n",
        "   <head>\n",
        "      <title>SVG rectangle</title>\n",
        "      <script type = \"text/javascript\" src = \"https://d3js.org/d3.v4.min.js\"></script>\n",
        "      <style>\n",
        "         body { font-family: Arial; }\n",
        "      </style>\n",
        "   </head>\n",
        "\n",
        "   <body>\n",
        "      <div id = \"svgcontainer\"></div>\n",
        "         <script language = \"javascript\">\n",
        "            var width = 300;\n",
        "            var height = 300;\n",
        "            var svg = d3.select(\"#svgcontainer\")\n",
        "               .append(\"svg\")\n",
        "               .attr(\"width\", width)\n",
        "               .attr(\"height\", height);\n",
        "\n",
        "            var group = svg.append(\"g\")\n",
        "               .attr(\"transform\", \"translate(60, 60) rotate(30)\");\n",
        "\n",
        "            var rect = group.append(\"rect\")\n",
        "               .attr(\"x\", 20)\n",
        "               .attr(\"y\", 20)\n",
        "               .attr(\"width\", 60)\n",
        "               .attr(\"height\", 30)\n",
        "               .attr(\"fill\", \"cyan\")\n",
        "\n",
        "            var circle = group\n",
        "               .append(\"circle\")\n",
        "               .attr(\"cx\", 0)\n",
        "               .attr(\"cy\", 0)\n",
        "               .attr(\"r\", 30)\n",
        "               .attr(\"fill\", \"pink\")\n",
        "         </script>\n",
        "      </div>\n",
        "   </body>\n",
        "</html>"
      ],
      "metadata": {
        "id": "PSTSOCGhhrQj",
        "colab": {
          "base_uri": "https://localhost:8080/",
          "height": 322
        },
        "outputId": "58aed25d-a135-48e9-9085-666dd8174755"
      },
      "execution_count": 140,
      "outputs": [
        {
          "output_type": "display_data",
          "data": {
            "text/plain": [
              "<IPython.core.display.HTML object>"
            ],
            "text/html": [
              "<!DOCTYPE html>\n",
              "<html lang = \"en\">\n",
              "   <head>\n",
              "      <title>SVG rectangle</title>\n",
              "      <script type = \"text/javascript\" src = \"https://d3js.org/d3.v4.min.js\"></script>\n",
              "      <style>\n",
              "         body { font-family: Arial; }\n",
              "      </style>\n",
              "   </head>\n",
              "\n",
              "   <body>\n",
              "      <div id = \"svgcontainer\"></div>\n",
              "         <script language = \"javascript\">\n",
              "            var width = 300;\n",
              "            var height = 300;\n",
              "            var svg = d3.select(\"#svgcontainer\")\n",
              "               .append(\"svg\")\n",
              "               .attr(\"width\", width)\n",
              "               .attr(\"height\", height);\n",
              "\n",
              "            var group = svg.append(\"g\")\n",
              "               .attr(\"transform\", \"translate(60, 60) rotate(30)\");\n",
              "\n",
              "            var rect = group.append(\"rect\")\n",
              "               .attr(\"x\", 20)\n",
              "               .attr(\"y\", 20)\n",
              "               .attr(\"width\", 60)\n",
              "               .attr(\"height\", 30)\n",
              "               .attr(\"fill\", \"cyan\")\n",
              "\n",
              "            var circle = group\n",
              "               .append(\"circle\")\n",
              "               .attr(\"cx\", 0)\n",
              "               .attr(\"cy\", 0)\n",
              "               .attr(\"r\", 30)\n",
              "               .attr(\"fill\", \"pink\")\n",
              "         </script>\n",
              "      </div>\n",
              "   </body>\n",
              "</html>\n"
            ]
          },
          "metadata": {}
        }
      ]
    },
    {
      "cell_type": "markdown",
      "source": [
        "## **transition():**\n",
        "\n",
        "The transition() method is available for all selectors and it starts the transition process. This method supports most of the selection methods such as – attr(), style(), etc. But, It does not support the append() and the data() methods, which need to be called before the transition() method. Also, it provides methods specific to transition like duration(), ease(), etc."
      ],
      "metadata": {
        "id": "lgcMhyQCNjJh"
      }
    },
    {
      "cell_type": "code",
      "source": [
        "%%html\n",
        "<!DOCTYPE html>\n",
        "<html>\n",
        "   <head>\n",
        "      <script type = \"text/javascript\" src = \"https://d3js.org/d3.v4.min.js\"></script>\n",
        "   </head>\n",
        "\n",
        "   <body>\n",
        "      <h3>Rashmit Vartak</h3>\n",
        "      <script>\n",
        "         d3.select(\"body\").transition().style(\"background-color\", \"Black\");\n",
        "      </script>\n",
        "   </body>\n",
        "</html>"
      ],
      "metadata": {
        "colab": {
          "base_uri": "https://localhost:8080/",
          "height": 58
        },
        "id": "O2a3Y4n6NgFU",
        "outputId": "c979548a-90c0-430d-a0e6-82311f7d7b1f"
      },
      "execution_count": 143,
      "outputs": [
        {
          "output_type": "display_data",
          "data": {
            "text/plain": [
              "<IPython.core.display.HTML object>"
            ],
            "text/html": [
              "<!DOCTYPE html>\n",
              "<html>\n",
              "   <head>\n",
              "      <script type = \"text/javascript\" src = \"https://d3js.org/d3.v4.min.js\"></script>\n",
              "   </head>\n",
              "\n",
              "   <body>\n",
              "      <h3>Rashmit Vartak</h3>\n",
              "      <script>\n",
              "         d3.select(\"body\").transition().style(\"background-color\", \"Black\");\n",
              "      </script>\n",
              "   </body>\n",
              "</html>\n"
            ]
          },
          "metadata": {}
        }
      ]
    },
    {
      "cell_type": "markdown",
      "source": [
        "## **D3.js Animation**\n",
        "\n",
        "D3.js supports animation through transition. We can do animation with proper use of transition. Transitions are a limited form of Key Frame Animation with only two key frames – start and end. The starting key frame is typically the current state of the DOM, and the ending key frame is a set of attributes, styles and other properties you specify."
      ],
      "metadata": {
        "id": "06GpTeMcNt8h"
      }
    },
    {
      "cell_type": "code",
      "source": [
        "%%html\n",
        "<!DOCTYPE html>\n",
        "<html>\n",
        "   <head>\n",
        "      <script type = \"text/javascript\" src = \"https://d3js.org/d3.v4.min.js\"></script>\n",
        "   </head>\n",
        "\n",
        "   <body>\n",
        "      <h3>Rashmit Vartak</h3>\n",
        "      <script>\n",
        "         d3.select(\"body\").style(\"background-color\", \"lightblue\")\n",
        "         // make the background-color lightblue.transition()\n",
        "         .style(\"background-color\", \"gray\");\n",
        "         // make the background-color gray\n",
        "      </script>\n",
        "   </body>\n",
        "</html>"
      ],
      "metadata": {
        "colab": {
          "base_uri": "https://localhost:8080/",
          "height": 58
        },
        "id": "FOgKU2dzNoBE",
        "outputId": "c69d3f78-ad35-45b5-e8e9-1552b4b2273a"
      },
      "execution_count": 145,
      "outputs": [
        {
          "output_type": "display_data",
          "data": {
            "text/plain": [
              "<IPython.core.display.HTML object>"
            ],
            "text/html": [
              "<!DOCTYPE html>\n",
              "<html>\n",
              "   <head>\n",
              "      <script type = \"text/javascript\" src = \"https://d3js.org/d3.v4.min.js\"></script>\n",
              "   </head>\n",
              "\n",
              "   <body>\n",
              "      <h3>Rashmit Vartak</h3>\n",
              "      <script>\n",
              "         d3.select(\"body\").style(\"background-color\", \"lightblue\")\n",
              "         // make the background-color lightblue.transition()\n",
              "         .style(\"background-color\", \"gray\");\n",
              "         // make the background-color gray\n",
              "      </script>\n",
              "   </body>\n",
              "</html>\n"
            ]
          },
          "metadata": {}
        }
      ]
    },
    {
      "cell_type": "markdown",
      "source": [
        "## **delay()**\n",
        "\n",
        "The delay() method allows a transition to take place after a certain period of time."
      ],
      "metadata": {
        "id": "57Km6LccN2Tx"
      }
    },
    {
      "cell_type": "code",
      "source": [
        "%%html\n",
        "<!DOCTYPE html>\n",
        "<html>\n",
        "   <head>\n",
        "      <script type = \"text/javascript\" src = \"https://d3js.org/d3.v4.min.js\"></script>\n",
        "   </head>\n",
        "\n",
        "   <body>\n",
        "      <h3> Rashmit Vartak </h3>\n",
        "      <script>\n",
        "         d3.selectAll(\"h3\").transition()\n",
        "            .style(\"font-size\",\"28px\").delay(2000).duration(2000);\n",
        "      </script>\n",
        "   </body>\n",
        "</html>"
      ],
      "metadata": {
        "colab": {
          "base_uri": "https://localhost:8080/",
          "height": 84
        },
        "id": "x3SUVBZ1NweY",
        "outputId": "2e8d6022-99ab-4c40-df13-9ac1a13a919d"
      },
      "execution_count": 146,
      "outputs": [
        {
          "output_type": "display_data",
          "data": {
            "text/plain": [
              "<IPython.core.display.HTML object>"
            ],
            "text/html": [
              "<!DOCTYPE html>\n",
              "<html>\n",
              "   <head>\n",
              "      <script type = \"text/javascript\" src = \"https://d3js.org/d3.v4.min.js\"></script>\n",
              "   </head>\n",
              "\n",
              "   <body>\n",
              "      <h3> Rashmit Vartak </h3>\n",
              "      <script>\n",
              "         d3.selectAll(\"h3\").transition()\n",
              "            .style(\"font-size\",\"28px\").delay(2000).duration(2000);\n",
              "      </script>\n",
              "   </body>\n",
              "</html>\n"
            ]
          },
          "metadata": {}
        }
      ]
    },
    {
      "cell_type": "code",
      "source": [],
      "metadata": {
        "id": "TCC2zW7rN5zO"
      },
      "execution_count": null,
      "outputs": []
    }
  ]
}