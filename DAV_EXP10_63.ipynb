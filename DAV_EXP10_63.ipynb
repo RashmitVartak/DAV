{
  "nbformat": 4,
  "nbformat_minor": 0,
  "metadata": {
    "colab": {
      "provenance": [],
      "authorship_tag": "ABX9TyP+gchgAp2hCbEJHyX8Pz50",
      "include_colab_link": true
    },
    "kernelspec": {
      "name": "python3",
      "display_name": "Python 3"
    },
    "language_info": {
      "name": "python"
    }
  },
  "cells": [
    {
      "cell_type": "markdown",
      "metadata": {
        "id": "view-in-github",
        "colab_type": "text"
      },
      "source": [
        "<a href=\"https://colab.research.google.com/github/RashmitVartak/DAV/blob/main/DAV_EXP10_63.ipynb\" target=\"_parent\"><img src=\"https://colab.research.google.com/assets/colab-badge.svg\" alt=\"Open In Colab\"/></a>"
      ]
    },
    {
      "cell_type": "markdown",
      "source": [
        "# **Experiment - 10 :Event Handling with D3.js**\n",
        "\n"
      ],
      "metadata": {
        "id": "0bKNZ-MyXAOx"
      }
    },
    {
      "cell_type": "markdown",
      "source": [
        "Name:Rashmit Vartak\n",
        "\n",
        "Div: D11AD\n",
        "\n",
        "Rollno:63\n"
      ],
      "metadata": {
        "id": "9r75yq2Wal4I"
      }
    },
    {
      "cell_type": "markdown",
      "source": [
        "\n",
        "**Title of Experiment**:\n",
        "Event Handling with D3.js\n",
        "\n",
        "\n",
        "**Outcome of Experiment :**\n",
        "\n",
        "**Theory :**\n",
        "\n",
        "Event handling in D3.js allows you to respond to user interactions, such as mouse clicks, mouse movements, keyboard inputs, and touch events, within your web visualizations. By leveraging event handling, you can create interactive and dynamic visualizations that respond to user actions. Here's a theoretical overview of event handling with D3.js:\n",
        "\n",
        "Event Binding:\n",
        "\n",
        "*   In D3.js, you can bind event handlers to selected DOM elements using the .on() method.\n",
        "*   Syntax: selection.on(eventType, eventHandler).\n",
        "*   eventType is the type of event you want to handle (e.g., \"click\", \"mouseover\", \"keydown\").\n",
        "*   eventHandler is the function that will be executed when the event occurs.\n",
        "\n",
        "Basic Events:\n",
        "\n",
        "*  Mouse Events:  Events related to mouse interactions, such as clicks (click), mouseover (mouseover), mouseout (mouseout), mousemove (mousemove), etc.\n",
        "*   Keyboard Events: Events related to keyboard inputs, such as keydown (keydown), keyup (keyup), keypress (keypress), etc.\n",
        "*   Touch Events: Events related to touch interactions on touch-enabled devices, such as touchstart (touchstart), touchmove (touchmove), touchend (touchend), etc.\n",
        "\n",
        "\n",
        "Event Propagation:\n",
        "\n",
        "*   D3.js supports event propagation, which determines the order in which event handlers are executed.\n",
        "*   By default, events propagate from the target element to its ancestors (capturing phase) and then back down to the target element (bubbling phase).\n",
        "*   You can control event propagation using the event.stopPropagation() and event.preventDefault() methods.\n",
        "\n",
        "\n",
        "\n",
        "Event Parameters:\n",
        "\n",
        "*   When an event handler function is called, it is passed an event object containing information about the event.\n",
        "*   Event objects provide properties such as event.target (the DOM element that triggered the event), event.clientX/event.clientY (mouse coordinates), event.keyCode (key code for keyboard events), etc.\n",
        "\n",
        "Dynamic Event Handling:\n",
        "\n",
        "*   Event handling in D3.js allows you to dynamically change visualizations based on user interactions.\n",
        "*   For example, you can update the data, style, or position of elements in response to mouse clicks, keyboard inputs, or touch gestures.\n",
        "\n",
        "\n",
        "Event Delegation:\n",
        "\n",
        "*   Instead of attaching event handlers to individual elements, you can attach them to a parent element and use event bubbling to handle events from its children.\n",
        "*   This is particularly useful for handling events on dynamically generated elements or elements added/removed from the DOM.\n",
        "*   Event delegation is a technique for handling events on multiple elements efficiently.\n"
      ],
      "metadata": {
        "id": "diexZnY4XASM"
      }
    },
    {
      "cell_type": "markdown",
      "source": [
        "#Event Handling with D3.js"
      ],
      "metadata": {
        "id": "WYP0YUShd9Nt"
      }
    },
    {
      "cell_type": "markdown",
      "source": [
        "1. Hover on circle to change colour"
      ],
      "metadata": {
        "id": "3g-tzVFld9Bz"
      }
    },
    {
      "cell_type": "code",
      "execution_count": 2,
      "metadata": {
        "colab": {
          "base_uri": "https://localhost:8080/",
          "height": 222
        },
        "id": "G-fePzvG5Kb_",
        "outputId": "db988972-5e5f-40fa-b663-059ac2ead447"
      },
      "outputs": [
        {
          "output_type": "display_data",
          "data": {
            "text/plain": [
              "<IPython.core.display.HTML object>"
            ],
            "text/html": [
              "<!DOCTYPE html>\n",
              "<html lang=\"en\">\n",
              "<head>\n",
              "  <meta charset=\"UTF-8\">\n",
              "  <title>D3.js Mouse Events</title>\n",
              "  <script src=\"https://d3js.org/d3.v7.min.js\"></script>\n",
              "  <style>\n",
              "    .circle {\n",
              "      fill: steelblue;\n",
              "    }\n",
              "    .highlighted {\n",
              "      fill: orange;\n",
              "    }\n",
              "  </style>\n",
              "</head>\n",
              "<body>\n",
              "  <svg width=\"200\" height=\"200\">\n",
              "    <circle class=\"circle\" cx=\"50\" cy=\"50\" r=\"20\"></circle>\n",
              "    <circle class=\"circle\" cx=\"100\" cy=\"100\" r=\"20\"></circle>\n",
              "    <circle class=\"circle\" cx=\"150\" cy=\"150\" r=\"20\"></circle>\n",
              "  </svg>\n",
              "\n",
              "  <script>\n",
              "    d3.selectAll(\".circle\")\n",
              "      .on(\"mouseover\", function() {\n",
              "        d3.select(this).classed(\"highlighted\", true);\n",
              "      })\n",
              "      .on(\"mouseout\", function() {\n",
              "        d3.select(this).classed(\"highlighted\", false);\n",
              "      });\n",
              "  </script>\n",
              "</body>\n",
              "</html>\n"
            ]
          },
          "metadata": {}
        }
      ],
      "source": [
        "%%html\n",
        "<!DOCTYPE html>\n",
        "<html lang=\"en\">\n",
        "<head>\n",
        "  <meta charset=\"UTF-8\">\n",
        "  <title>D3.js Mouse Events</title>\n",
        "  <script src=\"https://d3js.org/d3.v7.min.js\"></script>\n",
        "  <style>\n",
        "    .circle {\n",
        "      fill: steelblue;\n",
        "    }\n",
        "    .highlighted {\n",
        "      fill: orange;\n",
        "    }\n",
        "  </style>\n",
        "</head>\n",
        "<body>\n",
        "  <svg width=\"200\" height=\"200\">\n",
        "    <circle class=\"circle\" cx=\"50\" cy=\"50\" r=\"20\"></circle>\n",
        "    <circle class=\"circle\" cx=\"100\" cy=\"100\" r=\"20\"></circle>\n",
        "    <circle class=\"circle\" cx=\"150\" cy=\"150\" r=\"20\"></circle>\n",
        "  </svg>\n",
        "\n",
        "  <script>\n",
        "    d3.selectAll(\".circle\")\n",
        "      .on(\"mouseover\", function() {\n",
        "        d3.select(this).classed(\"highlighted\", true);\n",
        "      })\n",
        "      .on(\"mouseout\", function() {\n",
        "        d3.select(this).classed(\"highlighted\", false);\n",
        "      });\n",
        "  </script>\n",
        "</body>\n",
        "</html>\n"
      ]
    },
    {
      "cell_type": "markdown",
      "source": [
        "2. Click on circle to move them"
      ],
      "metadata": {
        "id": "uv28TZeEeIWk"
      }
    },
    {
      "cell_type": "code",
      "source": [
        "%%html\n",
        "<!DOCTYPE html>\n",
        "<html lang=\"en\">\n",
        "<head>\n",
        "  <meta charset=\"UTF-8\">\n",
        "  <title>D3.js Drag and Drop</title>\n",
        "  <script src=\"https://d3js.org/d3.v7.min.js\"></script>\n",
        "  <style>\n",
        "    .circle {\n",
        "      fill: steelblue;\n",
        "      cursor: pointer;\n",
        "    }\n",
        "  </style>\n",
        "</head>\n",
        "<body>\n",
        "  <svg width=\"200\" height=\"200\">\n",
        "    <circle class=\"circle\" cx=\"50\" cy=\"50\" r=\"20\"></circle>\n",
        "    <circle class=\"circle\" cx=\"100\" cy=\"100\" r=\"20\"></circle>\n",
        "    <circle class=\"circle\" cx=\"150\" cy=\"150\" r=\"20\"></circle>\n",
        "  </svg>\n",
        "\n",
        "  <script>\n",
        "    d3.selectAll(\".circle\")\n",
        "      .call(d3.drag()\n",
        "        .on(\"start\", function() {\n",
        "          d3.select(this).raise().classed(\"active\", true);\n",
        "        })\n",
        "        .on(\"drag\", function(event) {\n",
        "          d3.select(this)\n",
        "            .attr(\"cx\", event.x)\n",
        "            .attr(\"cy\", event.y);\n",
        "        })\n",
        "        .on(\"end\", function() {\n",
        "          d3.select(this).classed(\"active\", false);\n",
        "        })\n",
        "      );\n",
        "  </script>\n",
        "</body>\n",
        "</html>\n"
      ],
      "metadata": {
        "colab": {
          "base_uri": "https://localhost:8080/",
          "height": 222
        },
        "id": "de5CPY0SeH52",
        "outputId": "0cb9374f-f993-4975-d049-92fdcc233831"
      },
      "execution_count": 3,
      "outputs": [
        {
          "output_type": "display_data",
          "data": {
            "text/plain": [
              "<IPython.core.display.HTML object>"
            ],
            "text/html": [
              "<!DOCTYPE html>\n",
              "<html lang=\"en\">\n",
              "<head>\n",
              "  <meta charset=\"UTF-8\">\n",
              "  <title>D3.js Drag and Drop</title>\n",
              "  <script src=\"https://d3js.org/d3.v7.min.js\"></script>\n",
              "  <style>\n",
              "    .circle {\n",
              "      fill: steelblue;\n",
              "      cursor: pointer;\n",
              "    }\n",
              "  </style>\n",
              "</head>\n",
              "<body>\n",
              "  <svg width=\"200\" height=\"200\">\n",
              "    <circle class=\"circle\" cx=\"50\" cy=\"50\" r=\"20\"></circle>\n",
              "    <circle class=\"circle\" cx=\"100\" cy=\"100\" r=\"20\"></circle>\n",
              "    <circle class=\"circle\" cx=\"150\" cy=\"150\" r=\"20\"></circle>\n",
              "  </svg>\n",
              "\n",
              "  <script>\n",
              "    d3.selectAll(\".circle\")\n",
              "      .call(d3.drag()\n",
              "        .on(\"start\", function() {\n",
              "          d3.select(this).raise().classed(\"active\", true);\n",
              "        })\n",
              "        .on(\"drag\", function(event) {\n",
              "          d3.select(this)\n",
              "            .attr(\"cx\", event.x)\n",
              "            .attr(\"cy\", event.y);\n",
              "        })\n",
              "        .on(\"end\", function() {\n",
              "          d3.select(this).classed(\"active\", false);\n",
              "        })\n",
              "      );\n",
              "  </script>\n",
              "</body>\n",
              "</html>\n"
            ]
          },
          "metadata": {}
        }
      ]
    },
    {
      "cell_type": "markdown",
      "source": [
        "3. Hover on Circle to see tooltip"
      ],
      "metadata": {
        "id": "hxaIRKXdeMij"
      }
    },
    {
      "cell_type": "code",
      "source": [
        "%%html\n",
        "<!DOCTYPE html>\n",
        "<html lang=\"en\">\n",
        "<head>\n",
        "  <meta charset=\"UTF-8\">\n",
        "  <title>D3.js Tooltips on Hover</title>\n",
        "  <script src=\"https://d3js.org/d3.v7.min.js\"></script>\n",
        "  <style>\n",
        "    .circle {\n",
        "      fill: steelblue;\n",
        "    }\n",
        "    .tooltip {\n",
        "      position: absolute;\n",
        "      padding: 10px;\n",
        "      background: rgba(0, 0, 0, 0.8);\n",
        "      color: white;\n",
        "      font-size: 12px;\n",
        "      pointer-events: none;\n",
        "      display: none;\n",
        "    }\n",
        "  </style>\n",
        "</head>\n",
        "<body>\n",
        "  <svg width=\"400\" height=\"200\">\n",
        "  </svg>\n",
        "\n",
        "  <div class=\"tooltip\"></div>\n",
        "\n",
        "  <script>\n",
        "    var svg = d3.select(\"svg\");\n",
        "    var tooltip = d3.select(\".tooltip\");\n",
        "\n",
        "    svg.append(\"circle\")\n",
        "      .attr(\"cx\", 90)\n",
        "      .attr(\"cy\", 90)\n",
        "      .attr(\"r\", 80)\n",
        "      .attr(\"class\", \"circle\");\n",
        "\n",
        "    svg.selectAll(\".circle\")\n",
        "      .on(\"mouseover\", function(event, d) {\n",
        "        var coords = d3.pointer(event);\n",
        "        tooltip.style(\"display\", \"block\")\n",
        "          .style(\"left\", (coords[0] + 10) + \"px\")\n",
        "          .style(\"top\", (coords[1] - 20) + \"px\")\n",
        "          .html(\"Coordinates: \" + coords[0] + \", \" + coords[1]);\n",
        "      })\n",
        "      .on(\"mouseout\", function() {\n",
        "        tooltip.style(\"display\", \"none\");\n",
        "      });\n",
        "  </script>\n",
        "</body>\n",
        "</html>\n"
      ],
      "metadata": {
        "colab": {
          "base_uri": "https://localhost:8080/",
          "height": 222
        },
        "id": "UBFz9zf5d3EE",
        "outputId": "d593ee19-ccd2-4492-ef37-df832385e964"
      },
      "execution_count": 4,
      "outputs": [
        {
          "output_type": "display_data",
          "data": {
            "text/plain": [
              "<IPython.core.display.HTML object>"
            ],
            "text/html": [
              "<!DOCTYPE html>\n",
              "<html lang=\"en\">\n",
              "<head>\n",
              "  <meta charset=\"UTF-8\">\n",
              "  <title>D3.js Tooltips on Hover</title>\n",
              "  <script src=\"https://d3js.org/d3.v7.min.js\"></script>\n",
              "  <style>\n",
              "    .circle {\n",
              "      fill: steelblue;\n",
              "    }\n",
              "    .tooltip {\n",
              "      position: absolute;\n",
              "      padding: 10px;\n",
              "      background: rgba(0, 0, 0, 0.8);\n",
              "      color: white;\n",
              "      font-size: 12px;\n",
              "      pointer-events: none;\n",
              "      display: none;\n",
              "    }\n",
              "  </style>\n",
              "</head>\n",
              "<body>\n",
              "  <svg width=\"400\" height=\"200\">\n",
              "  </svg>\n",
              "\n",
              "  <div class=\"tooltip\"></div>\n",
              "\n",
              "  <script>\n",
              "    var svg = d3.select(\"svg\");\n",
              "    var tooltip = d3.select(\".tooltip\");\n",
              "\n",
              "    svg.append(\"circle\")\n",
              "      .attr(\"cx\", 90)\n",
              "      .attr(\"cy\", 90)\n",
              "      .attr(\"r\", 80)\n",
              "      .attr(\"class\", \"circle\");\n",
              "\n",
              "    svg.selectAll(\".circle\")\n",
              "      .on(\"mouseover\", function(event, d) {\n",
              "        var coords = d3.pointer(event);\n",
              "        tooltip.style(\"display\", \"block\")\n",
              "          .style(\"left\", (coords[0] + 10) + \"px\")\n",
              "          .style(\"top\", (coords[1] - 20) + \"px\")\n",
              "          .html(\"Coordinates: \" + coords[0] + \", \" + coords[1]);\n",
              "      })\n",
              "      .on(\"mouseout\", function() {\n",
              "        tooltip.style(\"display\", \"none\");\n",
              "      });\n",
              "  </script>\n",
              "</body>\n",
              "</html>\n"
            ]
          },
          "metadata": {}
        }
      ]
    },
    {
      "cell_type": "markdown",
      "source": [
        "4. Zoom Circles"
      ],
      "metadata": {
        "id": "7c1RHeFpeQeC"
      }
    },
    {
      "cell_type": "code",
      "source": [
        "%%html\n",
        "<!DOCTYPE html>\n",
        "<html lang=\"en\">\n",
        "<head>\n",
        "  <meta charset=\"UTF-8\">\n",
        "  <title>D3.js Zoom and Pan</title>\n",
        "  <script src=\"https://d3js.org/d3.v7.min.js\"></script>\n",
        "  <style>\n",
        "    svg {\n",
        "      border: 1px solid #ddd;\n",
        "    }\n",
        "  </style>\n",
        "</head>\n",
        "<body>\n",
        "  <svg width=\"400\" height=\"200\">\n",
        "    <g>\n",
        "      <circle cx=\"50\" cy=\"50\" r=\"20\"></circle>\n",
        "      <circle cx=\"100\" cy=\"100\" r=\"20\"></circle>\n",
        "      <circle cx=\"150\" cy=\"150\" r=\"20\"></circle>\n",
        "    </g>\n",
        "  </svg>\n",
        "\n",
        "  <script>\n",
        "    var svg = d3.select(\"svg\");\n",
        "    var container = svg.select(\"g\");\n",
        "\n",
        "    var zoom = d3.zoom()\n",
        "      .scaleExtent([1, 10])\n",
        "      .on(\"zoom\", function(event) {\n",
        "        container.attr(\"transform\", event.transform);\n",
        "      });\n",
        "\n",
        "    svg.call(zoom);\n",
        "  </script>\n",
        "</body>\n",
        "</html>\n"
      ],
      "metadata": {
        "colab": {
          "base_uri": "https://localhost:8080/",
          "height": 224
        },
        "id": "weEDVUrDd3Ao",
        "outputId": "f920975e-1f7a-4869-8f94-4a1e80de27b4"
      },
      "execution_count": 5,
      "outputs": [
        {
          "output_type": "display_data",
          "data": {
            "text/plain": [
              "<IPython.core.display.HTML object>"
            ],
            "text/html": [
              "<!DOCTYPE html>\n",
              "<html lang=\"en\">\n",
              "<head>\n",
              "  <meta charset=\"UTF-8\">\n",
              "  <title>D3.js Zoom and Pan</title>\n",
              "  <script src=\"https://d3js.org/d3.v7.min.js\"></script>\n",
              "  <style>\n",
              "    svg {\n",
              "      border: 1px solid #ddd;\n",
              "    }\n",
              "  </style>\n",
              "</head>\n",
              "<body>\n",
              "  <svg width=\"400\" height=\"200\">\n",
              "    <g>\n",
              "      <circle cx=\"50\" cy=\"50\" r=\"20\"></circle>\n",
              "      <circle cx=\"100\" cy=\"100\" r=\"20\"></circle>\n",
              "      <circle cx=\"150\" cy=\"150\" r=\"20\"></circle>\n",
              "    </g>\n",
              "  </svg>\n",
              "\n",
              "  <script>\n",
              "    var svg = d3.select(\"svg\");\n",
              "    var container = svg.select(\"g\");\n",
              "\n",
              "    var zoom = d3.zoom()\n",
              "      .scaleExtent([1, 10])\n",
              "      .on(\"zoom\", function(event) {\n",
              "        container.attr(\"transform\", event.transform);\n",
              "      });\n",
              "\n",
              "    svg.call(zoom);\n",
              "  </script>\n",
              "</body>\n",
              "</html>\n"
            ]
          },
          "metadata": {}
        }
      ]
    },
    {
      "cell_type": "markdown",
      "source": [
        "5. Drag points and they get highlighted on hover"
      ],
      "metadata": {
        "id": "T8PMEy81eUhM"
      }
    },
    {
      "cell_type": "code",
      "source": [
        "%%html\n",
        "<!DOCTYPE html>\n",
        "<html lang=\"en\">\n",
        "<head>\n",
        "  <meta charset=\"UTF-8\">\n",
        "  <title>D3.js Scatter Plot with Drag and Highlight</title>\n",
        "  <script src=\"https://d3js.org/d3.v7.min.js\"></script>\n",
        "  <style>\n",
        "    .dot {\n",
        "      fill: steelblue;\n",
        "      cursor: pointer;\n",
        "    }\n",
        "    .dot.active {\n",
        "      fill: orange;\n",
        "    }\n",
        "  </style>\n",
        "</head>\n",
        "<body>\n",
        "  <svg width=\"400\" height=\"200\"></svg>\n",
        "\n",
        "  <script>\n",
        "    var data = [\n",
        "      { x: 30, y: 40 },\n",
        "      { x: 70, y: 90 },\n",
        "      { x: 110, y: 20 },\n",
        "      { x: 150, y: 120 },\n",
        "      { x: 190, y: 60 }\n",
        "    ];\n",
        "\n",
        "    var svg = d3.select(\"svg\");\n",
        "\n",
        "    var xScale = d3.scaleLinear()\n",
        "      .domain([0, 200])\n",
        "      .range([0, 400]);\n",
        "\n",
        "    var yScale = d3.scaleLinear()\n",
        "      .domain([0, 120])\n",
        "      .range([200, 0]);\n",
        "\n",
        "    svg.selectAll(\".dot\")\n",
        "      .data(data)\n",
        "      .enter().append(\"circle\")\n",
        "      .attr(\"class\", \"dot\")\n",
        "      .attr(\"cx\", d => xScale(d.x))\n",
        "      .attr(\"cy\", d => yScale(d.y))\n",
        "      .attr(\"r\", 5)\n",
        "      .on(\"mouseover\", function() {\n",
        "        d3.select(this).classed(\"active\", true);\n",
        "      })\n",
        "      .on(\"mouseout\", function() {\n",
        "        d3.select(this).classed(\"active\", false);\n",
        "      })\n",
        "      .call(d3.drag()\n",
        "        .on(\"drag\", function(event) {\n",
        "          d3.select(this)\n",
        "            .attr(\"cx\", event.x)\n",
        "            .attr(\"cy\", event.y);\n",
        "        })\n",
        "      );\n",
        "  </script>\n",
        "</body>\n",
        "</html>\n"
      ],
      "metadata": {
        "colab": {
          "base_uri": "https://localhost:8080/",
          "height": 222
        },
        "id": "TBIhuqMCeURR",
        "outputId": "7dd16713-18aa-47c7-f2b2-56697aed302f"
      },
      "execution_count": 6,
      "outputs": [
        {
          "output_type": "display_data",
          "data": {
            "text/plain": [
              "<IPython.core.display.HTML object>"
            ],
            "text/html": [
              "<!DOCTYPE html>\n",
              "<html lang=\"en\">\n",
              "<head>\n",
              "  <meta charset=\"UTF-8\">\n",
              "  <title>D3.js Scatter Plot with Drag and Highlight</title>\n",
              "  <script src=\"https://d3js.org/d3.v7.min.js\"></script>\n",
              "  <style>\n",
              "    .dot {\n",
              "      fill: steelblue;\n",
              "      cursor: pointer;\n",
              "    }\n",
              "    .dot.active {\n",
              "      fill: orange;\n",
              "    }\n",
              "  </style>\n",
              "</head>\n",
              "<body>\n",
              "  <svg width=\"400\" height=\"200\"></svg>\n",
              "\n",
              "  <script>\n",
              "    var data = [\n",
              "      { x: 30, y: 40 },\n",
              "      { x: 70, y: 90 },\n",
              "      { x: 110, y: 20 },\n",
              "      { x: 150, y: 120 },\n",
              "      { x: 190, y: 60 }\n",
              "    ];\n",
              "\n",
              "    var svg = d3.select(\"svg\");\n",
              "\n",
              "    var xScale = d3.scaleLinear()\n",
              "      .domain([0, 200])\n",
              "      .range([0, 400]);\n",
              "\n",
              "    var yScale = d3.scaleLinear()\n",
              "      .domain([0, 120])\n",
              "      .range([200, 0]);\n",
              "\n",
              "    svg.selectAll(\".dot\")\n",
              "      .data(data)\n",
              "      .enter().append(\"circle\")\n",
              "      .attr(\"class\", \"dot\")\n",
              "      .attr(\"cx\", d => xScale(d.x))\n",
              "      .attr(\"cy\", d => yScale(d.y))\n",
              "      .attr(\"r\", 5)\n",
              "      .on(\"mouseover\", function() {\n",
              "        d3.select(this).classed(\"active\", true);\n",
              "      })\n",
              "      .on(\"mouseout\", function() {\n",
              "        d3.select(this).classed(\"active\", false);\n",
              "      })\n",
              "      .call(d3.drag()\n",
              "        .on(\"drag\", function(event) {\n",
              "          d3.select(this)\n",
              "            .attr(\"cx\", event.x)\n",
              "            .attr(\"cy\", event.y);\n",
              "        })\n",
              "      );\n",
              "  </script>\n",
              "</body>\n",
              "</html>\n"
            ]
          },
          "metadata": {}
        }
      ]
    },
    {
      "cell_type": "code",
      "source": [],
      "metadata": {
        "id": "TLT2v1V-ea8t"
      },
      "execution_count": null,
      "outputs": []
    }
  ]
}